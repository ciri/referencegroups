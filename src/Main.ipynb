{
 "cells": [
  {
   "cell_type": "markdown",
   "metadata": {},
   "source": [
    "# Reference Groups"
   ]
  },
  {
   "cell_type": "markdown",
   "metadata": {},
   "source": [
    "Follow the instructions in README.md to set-up the code and libraries correctly."
   ]
  },
  {
   "cell_type": "code",
   "execution_count": 1,
   "metadata": {},
   "outputs": [],
   "source": [
    "import os\n",
    "import numpy as np\n",
    "import pandas as pd\n",
    "import seaborn as sns\n",
    "import matplotlib.pyplot as plt\n",
    "\n",
    "import nltk\n",
    "from nltk.stem.wordnet import WordNetLemmatizer \n",
    "from nltk.corpus import wordnet"
   ]
  },
  {
   "cell_type": "markdown",
   "metadata": {},
   "source": [
    "Our language model for this taks is a ConceptNet Numberbatch embedding with and added counterfitting procedure to space out antonyms. We also disable spacy's default behavior of spitting dashses."
   ]
  },
  {
   "cell_type": "code",
   "execution_count": 5,
   "metadata": {},
   "outputs": [],
   "source": [
    "import spacy\n",
    "from spacy.util import compile_infix_regex\n",
    "from spacy.tokenizer import Tokenizer\n",
    "\n",
    "data_file_path  = \"./data/survey.csv\"                  \n",
    "output_folder  = f\"output{data_file_path[6:-4]}/\"\n",
    "\n",
    "try:\n",
    "    os.popen(f\"mkdir {output_folder}\")\n",
    "except:\n",
    "    print(\"folder existed already\")\n",
    "\n",
    "# Generate a counter-fitted numberbatch model and place it in\n",
    "# the lib folder. We can load it back in using spacy.\n",
    "numberbatch_path = \"lib/counterfitting/numberbatch-counterfitted\"  \n",
    "nlp = spacy.load(numberbatch_path)\n",
    "\n",
    "# Avoid splitting of dashes\n",
    "def custom_tokenizer(nlp):\n",
    "    inf = list(nlp.Defaults.infixes)                # Default infixes\n",
    "    inf.remove(r\"(?<=[0-9])[+\\-\\*^](?=[0-9-])\")    # Remove the generic op between numbers or between a number and a -\n",
    "    inf = tuple(inf)                               # Convert inf to tuple\n",
    "    infixes = inf + tuple([r\"(?<=[0-9])[+*^](?=[0-9-])\", r\"(?<=[0-9])-(?=-)\"])  # Add the removed rule after subtracting (?<=[0-9])-(?=[0-9]) pattern\n",
    "    infixes = [x for x in infixes if '-|–|—|--|---|——|~' not in x] # Remove - between letters rule\n",
    "    infix_re = compile_infix_regex(infixes)\n",
    "\n",
    "    return Tokenizer(nlp.vocab, prefix_search=None,\n",
    "                                suffix_search=None,\n",
    "                                infix_finditer=None,\n",
    "                                token_match=None,\n",
    "                                rules=None)\n",
    "nlp.tokenizer = custom_tokenizer(nlp)"
   ]
  },
  {
   "cell_type": "markdown",
   "metadata": {},
   "source": [
    "## Data Preprocessing"
   ]
  },
  {
   "cell_type": "code",
   "execution_count": 6,
   "metadata": {},
   "outputs": [],
   "source": [
    "from lib.hard_launch import load_data, remove_anomaly, process_text, construct_participant_level_df\n",
    "from lib.addons_enric import censor_ips"
   ]
  },
  {
   "cell_type": "markdown",
   "metadata": {},
   "source": [
    "### 1. Text processing and construct participant level variables\n",
    "\n",
    "The text processing pipeline is as follows:\n",
    "1. Remove participants with incomplete surveys (fewer than 8 unique phrases/words).\n",
    "2. Use enchant for spell checking. Adopt the suggested word with the highest confidence if it has appeared elsewhere in the survey.\n",
    "3. Lemmatize all words except for verbs.\n",
    "4. Remove censored words (non-semantic words).\n",
    "5. Check if ConceptNet knows the bigrams and if so use ConceptNet bigram notation (e.g., gold digger => gold_digger)\n",
    "6. Remove infrequent words (anything with a count <5)\n",
    "7. Summarize bigrams at the blank level as their maximum.\n",
    "8. Spell-check.\n",
    "9. Remove repetitive words within 1 participant's answers.\n",
    "10. Recalculate maxima.\n",
    "\n",
    "The final dataframe is then:\n",
    "\n",
    "**df[n_participant,]**:\n",
    "* P3_adjust: adjust association score to nan if the inputted word is not valid\n",
    "* mean_emb: avg 200 embedding of words for each participant\n",
    "* avg_association: avg association for each valid word\n",
    "* conn_with_brand: avg scoring about how closely parcipants can relate to brand\n",
    "* conn_with_inf: avg scoring about how closely parcipants can relate to the influencer\n",
    "* intentionality: avg scoring about the post intention to sell the featured product"
   ]
  },
  {
   "cell_type": "code",
   "execution_count": null,
   "metadata": {},
   "outputs": [],
   "source": [
    "from lib.addons_enric import censor_ips\n",
    "from lib.hard_launch import load_data, remove_anomaly, process_text, construct_participant_level_df\n",
    "\n",
    "df = load_data(data_file_path)\n",
    "df = remove_anomaly(df)\n",
    "df = censor_ips(df)\n",
    "df,invalid_word,val_word_cnt,df_corrected_words = process_text(df,nlp)\n",
    "df = construct_participant_level_df(df)"
   ]
  },
  {
   "cell_type": "code",
   "execution_count": 11,
   "metadata": {},
   "outputs": [
    {
     "name": "stdout",
     "output_type": "stream",
     "text": [
      "<class 'pandas.core.frame.DataFrame'>\n",
      "Int64Index: 4120 entries, 0 to 4120\n",
      "Columns: 150 entries, Source to intentionality\n",
      "dtypes: bool(1), float64(88), int64(12), object(49)\n",
      "memory usage: 4.7+ MB\n"
     ]
    }
   ],
   "source": [
    "df.info()"
   ]
  },
  {
   "cell_type": "markdown",
   "metadata": {},
   "source": [
    "### 2. Clustering valid words in the survey"
   ]
  },
  {
   "cell_type": "markdown",
   "metadata": {},
   "source": [
    "The models use a variant of [Bayesian Guassian mixture](https://en.wikipedia.org/wiki/Mixture_model#Multivariate_Gaussian_mixture_model) with EM to yield:\n",
    "\n",
    "$$\n",
    "p(\\boldsymbol{\\theta} \\mid \\boldsymbol{x})=\\sum_{i=1}^{K} \\tilde{\\phi}_{i} \\mathcal{N}\\left(\\tilde{\\boldsymbol{\\mu}}_{i}, \\tilde{\\mathbf{\\Sigma}}_{i}\\right)\n",
    "$$\n",
    "\n",
    "More specifically we opt for a Weighted Dirichlet Prior GMM. We choose a high value of gamma to get more active components.\n",
    "\n",
    "The estimation procedure gives us the weights which must sum to 1. When sorted, they linearly decrease in previous experiments making it hard to choose a cut-off. \n",
    "\n",
    "+ unlike finite models, which will almost always use all components as much as they can, and hence will produce wildly different solutions for different numbers of components, the Dirichlet process solution won’t change much with changes to the parameters, leading to more stability and less tuning.\n",
    "+ only an upper bound of this number needs to be provided. Note however that the DPMM is not a formal model selection procedure, and thus provides no guarantee on the result.\n",
    "- the extra parametrization necessary for variational inference and for the structure of the Dirichlet process can and will make inference slower, although not by much.\n",
    "- as in variational techniques, but only more so, there are many implicit biases in the Dirichlet process and the inference algorithms, and whenever there is a mismatch between these biases and the data it might be possible to fit better models using a finite mixture.\n",
    "\n",
    "[Src: See here for a detailed description](https://amueller.github.io/COMS4995-s18/slides/aml-16-032118-clustering-and-mixture-models/#40)\n",
    "\n",
    "Output:\n",
    "\n",
    "<font color='blue'> === Word Level === </font>\n",
    "\n",
    "df_word[n_word,]:\n",
    "* word - valid word ocurring in the survey\n",
    "* embedding - word embedding\n",
    "* label     - Each word's cluster label\n",
    "* count     - number of occurrences in the entire survey\n",
    "\n",
    "<font color='blue'> === Cluster Level === </font>\n",
    "\n",
    "df_cluster[n_cluster,] :\n",
    "* label: cluster label\n",
    "* centroid: cluster centroid\n",
    "* central_word: word in cluster that is closest to cluster centroid\n",
    "* word[list(str)]: list of words within the cluster\n",
    "* embedding[list[list(float)]]: list of all word embeddings in the cluster"
   ]
  },
  {
   "cell_type": "code",
   "execution_count": null,
   "metadata": {},
   "outputs": [],
   "source": [
    "# Note: older clustering methods are stored in lib.addons_clustering\n",
    "from lib.addons_enric import cluster_words\n",
    "\n",
    "# Set-up\n",
    "k              = 100\n",
    "algorithm      = \"weightedDPGMM\"\n",
    "membership_col = ['dist_from_centroid_'+str(i) for i in range(k)]\n",
    "\n",
    "# Save how often every word appears for the weighted clustering methods\n",
    "word_list   = list(val_word_cnt.keys())\n",
    "weights     = np.array([val_word_cnt[w] for w in word_list])\n",
    "\n",
    "# Cluster\n",
    "df_word,df_cluster,gmm = cluster_words(word_list, weights, k=k, nlp=nlp)  # clustering on valid words"
   ]
  },
  {
   "cell_type": "code",
   "execution_count": 13,
   "metadata": {},
   "outputs": [],
   "source": [
    "# add counts\n",
    "df_word['count']       = df_word['word'].apply(lambda w: val_word_cnt[w])\n",
    "\n",
    "# add total # of occurences in each cluster\n",
    "#[len(ws) for ws in df_cluster.word\n",
    "def count_n_occurences(word_list):\n",
    "    count = 0\n",
    "    for word in word_list:\n",
    "        count += val_word_cnt[word]\n",
    "    return count\n",
    "df_cluster['observations'] = [count_n_occurences(ws) for ws in df_cluster.word]\n",
    "\n",
    "# save to csv\n",
    "df_cluster[[\"label\",\"central_word\",\"stdev\",\"weight\",\"observations\",\"word\"]].sort_values(\"observations\",ascending=False).to_csv(f'{output_folder}/word_clustering.csv')"
   ]
  },
  {
   "cell_type": "markdown",
   "metadata": {},
   "source": [
    "Save the cluster-wordlist that is shown at the end of the paper."
   ]
  },
  {
   "cell_type": "code",
   "execution_count": 14,
   "metadata": {},
   "outputs": [],
   "source": [
    "def top_k(words):\n",
    "    cnts  = [val_word_cnt[w] for w in words]\n",
    "    return \", \".join(list(np.array(words)[np.argsort(cnts)[::-1][:5]]))\n",
    "\n",
    "df_cluster[\"top_words\"] = df_cluster.word.apply(top_k)\n",
    "df_cluster[\"top_words\"] = df_cluster.word.apply(top_k)\n",
    "\n",
    "df_cluster[[\"central_word\",\"top_words\"]].to_csv(f\"{output_folder}top.csv\")"
   ]
  },
  {
   "cell_type": "markdown",
   "metadata": {},
   "source": [
    "### 3. Calculate cluster membership\n",
    "<font color='blue'> === Word Level & Participant Level & Brand Level === </font>\n",
    "\n",
    "**Calculate each word and each participant's similarity w.r.t. each word cluster centroid using cosine**\n",
    "* Calculates a membership field called **'dist_from_centroid_X'** for every word. It is calculated as:\n",
    "$$\n",
    "\\begin{aligned}\n",
    "\\text{sim}(\\mathbf w_i, \\boldsymbol C_j) &= 1-\\cos(\\mathbf w_i, \\,\\boldsymbol C_j) \\\\\n",
    "&= \\frac{w \\cdot C}{\\lVert w \\cdot C \\rVert}\n",
    "\\end{aligned}\n",
    "$$\n",
    "It is 1 for very close neighbors and 0 for very far away ones.\n",
    "\n",
    "* Then we calculated the participant's similarity to clusters in **dist_from_centroid_X**  as the particpant level average:\n",
    "\n",
    "$$\n",
    "\\text{sim}(P_i,\\boldsymbol C_j)=\\frac{1}{|P_i|}\\sum_{\\mathbf w \\in P_i} \\text{sim}(\\mathbf  w, \\boldsymbol C_j)\n",
    "$$\n",
    "\n",
    "* Then we calculate brand's similarity to clusters in **dist_from_centroid_X** as:\n",
    "$$\n",
    "\\begin{aligned}\n",
    "\\text{sim}(B, \\boldsymbol C_j) &= \\frac{1}{Z}\\sum_{P_k \\in B} \\sum_{\\mathbf{w_i} \\in P_k} \\text{sim}(\\mathbf w_i, \\,\\boldsymbol C_j)\n",
    "\\end{aligned}\n",
    "$$"
   ]
  },
  {
   "cell_type": "code",
   "execution_count": 19,
   "metadata": {},
   "outputs": [],
   "source": [
    "from lib.hard_launch import calc_word_membership, calc_part_membership\n",
    "from lib.global_var import brand, treatment, lemmas\n",
    "\n",
    "df_word  = calc_word_membership(df_word,df_cluster)  # calc word membership\n",
    "df       = calc_part_membership(df,df_word)          # calc participant membership\n",
    "\n",
    "#df_perbrand = df[[brand, treatment, lemmas]].groupby([brand, treatment]).sum().reset_index()\n",
    "df_perbrand = df[[brand,treatment,lemmas]].groupby([brand,treatment]).apply(lambda x : x.sum())[['lemmas']].reset_index()\n",
    "df_perbrand = calc_part_membership(df_perbrand, df_word)\n",
    "df_brand    = df.groupby([brand,treatment])[membership_col].mean().reset_index()"
   ]
  },
  {
   "cell_type": "markdown",
   "metadata": {},
   "source": [
    "### 4. Calculate membership variation\n",
    "\n",
    "**Variation is calculated as follows:**\n",
    "- Calculate the cosine similarity of each word's concept space vector against the average concept space vector of the participant\n",
    "- Averaging the $l_2$ scores for each word\n",
    "\n",
    "$$\\text{variation}(P_j) = \\frac{1}{|P_j|}\\sum_{w\\in P_j}{\\ell_2(w, \\mu_j)}$$\n",
    "where $\\mu_j$ is the mean membership score vector of the participant."
   ]
  },
  {
   "cell_type": "code",
   "execution_count": 29,
   "metadata": {},
   "outputs": [],
   "source": [
    "from lib.hard_launch import calc_mem_var, count_words_in_cluster\n",
    "from scipy.spatial import distance\n",
    "\n",
    "df['mem_var_l2']      = calc_mem_var(df,df_word, membership_col, \"sqeuclidean\")\n",
    "df['cluster_counter'] = count_words_in_cluster(df,df_word,k)\n",
    "df['coverage']        = df['cluster_counter'].apply(np.count_nonzero)"
   ]
  },
  {
   "cell_type": "code",
   "execution_count": 30,
   "metadata": {},
   "outputs": [],
   "source": [
    "df['num_words'] = df.lemmas.apply(len)\n",
    "df['coverage_normalized'] = df['coverage'] / df['num_words']"
   ]
  },
  {
   "cell_type": "code",
   "execution_count": 31,
   "metadata": {},
   "outputs": [
    {
     "data": {
      "text/plain": [
       "1.2427617853265487"
      ]
     },
     "execution_count": 31,
     "metadata": {},
     "output_type": "execute_result"
    }
   ],
   "source": [
    "df.mem_var_l2.mean()"
   ]
  },
  {
   "cell_type": "markdown",
   "metadata": {},
   "source": [
    "Output:\n",
    "df[n_participant,]:\n",
    "* **mem_var**: variation of membership score.\n",
    "* **coverage**: number of clusters covered in the participant's response\n"
   ]
  },
  {
   "cell_type": "markdown",
   "metadata": {},
   "source": [
    "### 5. Membership dist from C\n",
    "<font color='blue'> === Participant Level === </font>\n",
    "\n",
    "df[n_participant,]:\n",
    "* mem_l2_dist_from_C: euclidean dist of each participant's membership from C mean membership\n",
    "* mem_cos_dist_from_C: cosine dist of each participant's membership from C mean membership"
   ]
  },
  {
   "cell_type": "code",
   "execution_count": 33,
   "metadata": {},
   "outputs": [],
   "source": [
    "import scipy\n",
    "from lib.hard_launch import get_membership_dist_from_C\n",
    "\n",
    "def dist_l2(v1,v2):       \n",
    "    return distance.norm((v1-v2),2)\n",
    "\n",
    "df['mem_l2_dist_from_C'] = get_membership_dist_from_C(df, df_brand, membership_col, metric=dist_l2)"
   ]
  },
  {
   "cell_type": "code",
   "execution_count": 46,
   "metadata": {},
   "outputs": [
    {
     "data": {
      "image/png": "[encoded data removed]",
      "text/plain": [
       "<Figure size 432x288 with 1 Axes>"
      ]
     },
     "metadata": {
      "needs_background": "light"
     },
     "output_type": "display_data"
    }
   ],
   "source": [
    "df['mem_l2_dist_from_C'].hist(bins=50);\n",
    "\n",
    "plt.title(f\" L2 Distance Distribution ({df['mem_l2_dist_from_C'].mean():.2f} +- {df['mem_l2_dist_from_C'].std():.2f})\");"
   ]
  },
  {
   "cell_type": "markdown",
   "metadata": {},
   "source": [
    "### 5. CSV exports"
   ]
  },
  {
   "cell_type": "markdown",
   "metadata": {},
   "source": [
    "Export the data for SEM analysis in R and Stata."
   ]
  },
  {
   "cell_type": "code",
   "execution_count": 42,
   "metadata": {},
   "outputs": [],
   "source": [
    "# key variables output to csv\n",
    "sem_cols = ['Source','ResponseId','id','handle','brand','age','gender','hour_pw','Q164','Q199',\n",
    "            'avg_association','typicality',\n",
    "            'mem_var_cos','mem_var_l2',\n",
    "            'idea_change','mem_l2_dist_from_C',            #'mem_cos_dist_from_C',\n",
    "            #'mem_jaccard_distance_words','mem_jaccard_distance_concepts','mem_l2_dist_from_C',            \n",
    "            'user_perc','user_similarity',\n",
    "            'resp_conf','conn_with_brand','conn_with_inf',\n",
    "            'intentionality','sponsor_by','featured_product_typicality',\n",
    "            'follow_likelihood','hour_pw','age','gender','coverage','coverage_normalized','num_words'\n",
    "           ]\n",
    "df[sem_cols].to_csv(f\"{output_folder}data.csv\", index=False)"
   ]
  },
  {
   "cell_type": "code",
   "execution_count": 43,
   "metadata": {},
   "outputs": [],
   "source": [
    "from lib.global_var import P1_lemma, P2_lemma \n",
    "\n",
    "# most of the data is ready\n",
    "df_inf = df.groupby(['brand','handle'])[['typicality','avg_association','idea_change','mem_var_l2',\"user_similarity\",\"coverage\",'coverage_normalized','num_words']].mean().reset_index() #membership_col\n",
    "\n",
    "# just need to add the top 5 cluster names\n",
    "def words_for_x(all_words,only_cluster=None):\n",
    "    all_words = [item for sublist in all_words for item in sublist]\n",
    "    all_words = [item for sublist in all_words for item in sublist]\n",
    "\n",
    "    if(only_cluster is not None):\n",
    "        all_words_filtered =[]\n",
    "        for word in all_words:\n",
    "            if(cluster_label(word) in only_cluster):\n",
    "                all_words_filtered.append(word)\n",
    "        return all_words_filtered\n",
    "    return all_words\n",
    "def words_for_influencer(df, handle, only_cluster=None):\n",
    "    all_words = df[df.handle == handle][P1_lemma+P2_lemma].values\n",
    "    return words_for_x(all_words,only_cluster)\n",
    "inf_words  = [words_for_influencer(df,handle) for handle in df_inf.handle]\n",
    "words2labels = lambda words: [df_word[df_word.word == word].label.values[0] for word in words]\n",
    "inf_lbls   = [words2labels(words) for words in  inf_words]\n",
    "\n",
    "def labels_to_topkcentralwords(labels,k=9):\n",
    "    lbl, cnt = np.unique(labels,return_counts=True)\n",
    "    top_lbl  = lbl[np.argsort(cnt)][::-1][:k]\n",
    "    return \", \".join(df_cluster.iloc[top_lbl].central_word.values)\n",
    "inf_topk = [labels_to_topkcentralwords(lbls) for lbls in inf_lbls]\n",
    "\n",
    "df_inf[\"topk_concepts\"] = inf_topk\n",
    "df_inf.to_csv(f\"{output_folder}influencers.csv\")"
   ]
  },
  {
   "cell_type": "code",
   "execution_count": 44,
   "metadata": {},
   "outputs": [],
   "source": [
    "df_brand = df.groupby(['brand'])[['typicality','avg_association','idea_change','mem_var_l2',\"user_similarity\",\"coverage\",'coverage_normalized','num_words']].mean().reset_index() #membership_col\n",
    "\n",
    "def words_for_brand(df, name, only_cluster=None):\n",
    "    all_words = df[(df.brand == name) & (df.treatment=='no')][P1_lemma+P2_lemma].values\n",
    "    return words_for_x(all_words,only_cluster)\n",
    "\n",
    "brand_words  = [words_for_brand(df,name) for name in df_brand.brand]\n",
    "brand_lbls   = [words2labels(words) for words in  brand_words]\n",
    "brand_top5   = [labels_to_topkcentralwords(lbls) for lbls in brand_lbls]\n",
    "df_brand[\"topk_concepts\"] = brand_top5\n",
    "df_brand.to_csv(f\"{output_folder}brands.csv\")"
   ]
  }
 ],
 "metadata": {
  "kernelspec": {
   "display_name": "Python 3",
   "language": "python",
   "name": "python3"
  },
  "language_info": {
   "codemirror_mode": {
    "name": "ipython",
    "version": 3
   },
   "file_extension": ".py",
   "mimetype": "text/x-python",
   "name": "python",
   "nbconvert_exporter": "python",
   "pygments_lexer": "ipython3",
   "version": "3.9.6"
  }
 },
 "nbformat": 4,
 "nbformat_minor": 4
}
